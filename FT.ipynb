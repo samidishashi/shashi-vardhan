import scipy as Sci
import scipy.linalg
import numpy as np
import pylab as pl
import matplotlib.pyplot as plt

f = open('UltrasoundSampleSignal.dat','rb')

AllSignal = np.fromfile(f,count=-1,dtype=np.uint16)
 
print('\n The length of the file is: ' + str(len(AllSignal)) + ' as expected from 15000 samples x 462 lines')

x=np.arange(0,15000/125e6,1/125e6)  

print('\n The length of the time array is: ' + str(len(x)) )

plt.plot(x,AllSignal[:15000])
plt.title('First Line Acquired')
plt.xlabel('Time')
plt.ylabel('Unsigned Integer Value')
plt.ticklabel_format(style='sci', axis='x', scilimits=(0,0))
f.close() 