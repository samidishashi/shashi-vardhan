{
 "cells": [
  {
   "cell_type": "markdown",
   "metadata": {},
   "source": [
    "# Introduction\n",
    "--------------\n",
    "\n",
    "THIS IS MT FIRST PYRHON PROGRAM AND I AM STARTING WITH SIMPLE PROGRAM\n"
   ]
  },
  {
   "cell_type": "code",
   "execution_count": 1,
   "metadata": {},
   "outputs": [
    {
     "name": "stdout",
     "output_type": "stream",
     "text": [
      "\n",
      "hello this is shashi vardhan &\n",
      "\n",
      " this is my first python program\n",
      "\n",
      "have a great day\n"
     ]
    }
   ],
   "source": [
    "#This is the simplest of the codes for Python\n",
    "\n",
    "txt=\"hello this is shashi vardhan &\"\n",
    "txt2=\" this is my first python program\"\n",
    "txt3=\"have a great day\"\n",
    "print('\\n'+txt)\n",
    "print('\\n'+txt2)\n",
    "print('\\n'+txt3)"
   ]
  },
  {
   "cell_type": "markdown",
   "metadata": {},
   "source": [
    "We just ran our first Python code on a notebook!\n",
    "\n",
    "Test your knowledge:\n",
    "\n",
    "* Execute 3 of the code examples in the tutorial and add some Markdown cells\n"
   ]
  },
  {
   "cell_type": "code",
   "execution_count": null,
   "metadata": {
    "collapsed": true
   },
   "outputs": [],
   "source": []
  }
 ],
 "metadata": {
  "anaconda-cloud": {},
  "kernelspec": {
   "display_name": "Python 2",
   "language": "python",
   "name": "python2"
  },
  "language_info": {
   "codemirror_mode": {
    "name": "ipython",
    "version": 2
   },
   "file_extension": ".py",
   "mimetype": "text/x-python",
   "name": "python",
   "nbconvert_exporter": "python",
   "pygments_lexer": "ipython2",
   "version": "2.7.13"
  }
 },
 "nbformat": 4,
 "nbformat_minor": 1
}
